{
 "cells": [
  {
   "cell_type": "code",
   "execution_count": 47,
   "metadata": {},
   "outputs": [],
   "source": [
    "try:\n",
    "    blocklist = open('blocklist.txt')\n",
    "except FileNotFoundError:\n",
    "    print('File not found.')"
   ]
  },
  {
   "cell_type": "code",
   "execution_count": 48,
   "metadata": {},
   "outputs": [],
   "source": [
    "blklist = set(blocklist.read().split('\\n'))"
   ]
  },
  {
   "cell_type": "code",
   "execution_count": 20,
   "metadata": {},
   "outputs": [],
   "source": [
    "try:\n",
    "    visitors = open('visitors.txt')\n",
    "except FileNotFoundError:\n",
    "    print('File not found.')"
   ]
  },
  {
   "cell_type": "code",
   "execution_count": 21,
   "metadata": {},
   "outputs": [],
   "source": [
    "visitor = visitors.read()"
   ]
  },
  {
   "cell_type": "code",
   "execution_count": 25,
   "metadata": {},
   "outputs": [],
   "source": [
    "visitor = visitor.split('\\n')"
   ]
  },
  {
   "cell_type": "code",
   "execution_count": 26,
   "metadata": {},
   "outputs": [
    {
     "data": {
      "text/plain": [
       "6"
      ]
     },
     "execution_count": 26,
     "metadata": {},
     "output_type": "execute_result"
    }
   ],
   "source": [
    "len(visitor)"
   ]
  },
  {
   "cell_type": "code",
   "execution_count": 28,
   "metadata": {},
   "outputs": [
    {
     "name": "stdout",
     "output_type": "stream",
     "text": [
      "['brucelee@fistoffury.com', 'd.vader@empire.net', 'usain.bolt@runnersclub.org', 'alice@wonderland.co.uk', 'nero@rome.com', 'mcurie@radium.com']\n"
     ]
    }
   ],
   "source": [
    "print(visitor)"
   ]
  },
  {
   "cell_type": "code",
   "execution_count": 53,
   "metadata": {},
   "outputs": [
    {
     "name": "stdout",
     "output_type": "stream",
     "text": [
      "{'captainhook@neverland.com', 'd.vader@empire.net', 'alice@wonderland.co.uk', 'cleopatra@pharaoh.org'}\n"
     ]
    }
   ],
   "source": [
    "print(blklist)"
   ]
  },
  {
   "cell_type": "code",
   "execution_count": 51,
   "metadata": {},
   "outputs": [],
   "source": [
    "blklist.remove('')"
   ]
  },
  {
   "cell_type": "code",
   "execution_count": 52,
   "metadata": {},
   "outputs": [
    {
     "data": {
      "text/plain": [
       "4"
      ]
     },
     "execution_count": 52,
     "metadata": {},
     "output_type": "execute_result"
    }
   ],
   "source": [
    "len(blklist)"
   ]
  },
  {
   "cell_type": "code",
   "execution_count": 54,
   "metadata": {},
   "outputs": [
    {
     "name": "stdout",
     "output_type": "stream",
     "text": [
      "d.vader@empire.net\n",
      "alice@wonderland.co.uk\n"
     ]
    }
   ],
   "source": [
    "for people in visitor:\n",
    "    for somebody in blklist:\n",
    "        if people == somebody:\n",
    "            print(people)"
   ]
  },
  {
   "cell_type": "code",
   "execution_count": 56,
   "metadata": {},
   "outputs": [
    {
     "name": "stdout",
     "output_type": "stream",
     "text": [
      "Add new offenders (enter . to stop):\n",
      "ranw0002@e.ntu.edu.sg\n",
      "jlu026@e.ntu.edu.sg\n",
      "alice@wonderland.co.uk\n",
      ".\n",
      "{'ranw0002@e.ntu.edu.sg', 'alice@wonderland.co.uk', 'jlu026@e.ntu.edu.sg'}\n"
     ]
    }
   ],
   "source": [
    "offenders = set()\n",
    "print('Add new offenders (enter . to stop):')\n",
    "while True:\n",
    "    newoffender = input()\n",
    "    if newoffender == '.':\n",
    "        break\n",
    "    else:\n",
    "        offenders.add(newoffender)\n",
    "print(offenders)"
   ]
  },
  {
   "cell_type": "code",
   "execution_count": 57,
   "metadata": {},
   "outputs": [
    {
     "name": "stdout",
     "output_type": "stream",
     "text": [
      "{'ranw0002@e.ntu.edu.sg', 'jlu026@e.ntu.edu.sg'}\n"
     ]
    }
   ],
   "source": [
    "offenders -= blklist\n",
    "print(offenders)"
   ]
  },
  {
   "cell_type": "code",
   "execution_count": 60,
   "metadata": {},
   "outputs": [
    {
     "name": "stdout",
     "output_type": "stream",
     "text": [
      "\n",
      "Users added to the blocklist:\n",
      "ranw0002@e.ntu.edu.sg\n",
      "jlu026@e.ntu.edu.sg\n"
     ]
    }
   ],
   "source": [
    "list = 'blocklist.txt'\n",
    "f = open(list, 'a')\n",
    "print('\\nUsers added to the blocklist:')\n",
    "for username in offenders:\n",
    "    f.write(username + '\\n')\n",
    "    print(username)\n",
    "f.close()"
   ]
  },
  {
   "cell_type": "code",
   "execution_count": 62,
   "metadata": {},
   "outputs": [],
   "source": [
    "blocklist.close()\n",
    "visitors.close()"
   ]
  },
  {
   "cell_type": "code",
   "execution_count": null,
   "metadata": {},
   "outputs": [],
   "source": []
  }
 ],
 "metadata": {
  "kernelspec": {
   "display_name": "Python 3",
   "language": "python",
   "name": "python3"
  },
  "language_info": {
   "codemirror_mode": {
    "name": "ipython",
    "version": 3
   },
   "file_extension": ".py",
   "mimetype": "text/x-python",
   "name": "python",
   "nbconvert_exporter": "python",
   "pygments_lexer": "ipython3",
   "version": "3.8.3"
  }
 },
 "nbformat": 4,
 "nbformat_minor": 4
}
