{
 "cells": [
  {
   "cell_type": "markdown",
   "metadata": {},
   "source": [
    "# EE0005 Lab Quiz"
   ]
  },
  {
   "cell_type": "code",
   "execution_count": null,
   "metadata": {},
   "outputs": [],
   "source": [
    "# Basic Libraries\n",
    "import numpy as np\n",
    "import pandas as pd\n",
    "import seaborn as sb\n",
    "import matplotlib.pyplot as plt # we only need pyplot\n",
    "sb.set() # set the default Seaborn style for graphics"
   ]
  },
  {
   "cell_type": "code",
   "execution_count": null,
   "metadata": {},
   "outputs": [],
   "source": [
    "abaData = pd.read_csv('quizData_SetA.csv')\n",
    "abaData.head()"
   ]
  },
  {
   "cell_type": "markdown",
   "metadata": {},
   "source": [
    "# Problem 1"
   ]
  },
  {
   "cell_type": "code",
   "execution_count": null,
   "metadata": {},
   "outputs": [],
   "source": [
    "abaData.describe()"
   ]
  },
  {
   "cell_type": "code",
   "execution_count": null,
   "metadata": {},
   "outputs": [],
   "source": [
    "# Draw the distributions of all variables\n",
    "f, axes = plt.subplots(4, 3, figsize=(18, 16))\n",
    "colors = [\"r\", \"g\", \"b\", \"m\"]\n",
    "\n",
    "count = 0\n",
    "for var in abaData:\n",
    "    sb.boxplot(abaData[var], orient = \"h\", color = colors[count], ax = axes[count,0])\n",
    "    sb.distplot(abaData[var], color = colors[count], ax = axes[count,1])\n",
    "    sb.violinplot(abaData[var], color = colors[count], ax = axes[count,2])\n",
    "    count += 1"
   ]
  },
  {
   "cell_type": "markdown",
   "metadata": {},
   "source": [
    "Comment: Height and weight has the most \"normal\" looking distribution, diameter and length have max outliers."
   ]
  },
  {
   "cell_type": "code",
   "execution_count": null,
   "metadata": {},
   "outputs": [],
   "source": [
    "# Correlation Matrix\n",
    "print(abaData.corr())\n",
    "\n",
    "# Heatmap of the Correlation Matrix\n",
    "f, axes = plt.subplots(1, 1, figsize=(10, 10))\n",
    "sb.heatmap(abaData.corr(), vmin = -1, vmax = 1,  linewidths = 1,\n",
    "           annot = True, fmt = \".2f\", annot_kws = {\"size\": 14}, cmap = \"RdBu\")"
   ]
  },
  {
   "cell_type": "markdown",
   "metadata": {},
   "source": [
    "Comment: diameter has the highest absolute correlation with length. It's helpful in predicting length."
   ]
  },
  {
   "cell_type": "code",
   "execution_count": null,
   "metadata": {},
   "outputs": [],
   "source": [
    "height = pd.DataFrame(abaData['Height'])\n",
    "weight = pd.DataFrame(abaData['Weight'])\n",
    "diameter = pd.DataFrame(abaData['Diameter'])\n",
    "length = pd.DataFrame(abaData['Length'])"
   ]
  },
  {
   "cell_type": "code",
   "execution_count": null,
   "metadata": {},
   "outputs": [],
   "source": [
    "sb.jointplot(x = height, y = length, height = 8)"
   ]
  },
  {
   "cell_type": "code",
   "execution_count": null,
   "metadata": {},
   "outputs": [],
   "source": [
    "sb.jointplot(x = weight, y = length, height = 8)"
   ]
  },
  {
   "cell_type": "code",
   "execution_count": null,
   "metadata": {},
   "outputs": [],
   "source": [
    "sb.jointplot(x = diameter, y = length, height = 8)"
   ]
  },
  {
   "cell_type": "code",
   "execution_count": null,
   "metadata": {},
   "outputs": [],
   "source": [
    "# Draw pairs of variables against one another\n",
    "sb.pairplot(data = abaData)"
   ]
  },
  {
   "cell_type": "markdown",
   "metadata": {},
   "source": [
    "Comment: diameter has the highest absolute correlation with length. It's helpful in predicting length."
   ]
  },
  {
   "cell_type": "markdown",
   "metadata": {},
   "source": [
    "# Problem 2"
   ]
  },
  {
   "cell_type": "code",
   "execution_count": null,
   "metadata": {},
   "outputs": [],
   "source": [
    "# MSE\n",
    "def mean_sq_err(actual, predicted):\n",
    "    return np.mean(np.square(np.array(actual) - np.array(predicted)))\n"
   ]
  },
  {
   "cell_type": "code",
   "execution_count": null,
   "metadata": {},
   "outputs": [],
   "source": [
    "# Import LinearRegression model from Scikit-Learn\n",
    "from sklearn.linear_model import LinearRegression\n",
    "from sklearn.model_selection import train_test_split\n",
    "\n",
    "# Length against height\n",
    "# Split the Dataset into Train and Test\n",
    "height_train, height_test, length_train, length_test = train_test_split(height, length, test_size = 0.3)\n",
    "\n",
    "# Create a Linear Regression object\n",
    "linreg = LinearRegression()\n",
    "\n",
    "# Train the Linear Regression model\n",
    "linreg.fit(height_train, length_train)"
   ]
  },
  {
   "cell_type": "code",
   "execution_count": null,
   "metadata": {},
   "outputs": [],
   "source": [
    "print('Intercept \\t: b = ', linreg.intercept_)\n",
    "print('Coefficients \\t: a = ', linreg.coef_)\n",
    "\n",
    "# Formula for the Regression line\n",
    "regline_x = height_train\n",
    "regline_y = linreg.intercept_ + linreg.coef_ * height_train\n",
    "\n",
    "# Plot the Linear Regression line\n",
    "f, axes = plt.subplots(1, 1, figsize=(16, 8))\n",
    "plt.scatter(height_train, length_train)\n",
    "plt.plot(regline_x, regline_y, 'r-', linewidth = 3)\n",
    "plt.show()"
   ]
  },
  {
   "cell_type": "code",
   "execution_count": null,
   "metadata": {},
   "outputs": [],
   "source": [
    "# Predict length values corresponding to height\n",
    "length_train_pred = linreg.predict(height_train)\n",
    "length_test_pred = linreg.predict(height_test)\n",
    "\n",
    "# Plot the Predictions\n",
    "f, axes = plt.subplots(1, 1, figsize=(16, 8))\n",
    "plt.scatter(height_test, length_test, color = \"green\")\n",
    "plt.scatter(height_test, length_test_pred, color = \"red\")\n",
    "plt.show()\n",
    "\n",
    "print(\"Mean Squared Error (MSE) on Train Set \\t:\", mean_sq_err(length_train, length_train_pred))\n",
    "print(\"Mean Squared Error (MSE) on Test Set \\t:\", mean_sq_err(length_test, length_test_pred))\n",
    "print(\"Explained Variance (R^2) on Train Set \\t:\", linreg.score(height_train, length_train))\n",
    "print(\"Explained Variance (R^2) on Test Set \\t:\", linreg.score(height_test, length_test))"
   ]
  },
  {
   "cell_type": "code",
   "execution_count": null,
   "metadata": {},
   "outputs": [],
   "source": [
    "# Length against weight\n",
    "# Split the Dataset into Train and Test\n",
    "weight_train, weight_test, length_train, length_test = train_test_split(weight, length, test_size = 0.3)\n",
    "\n",
    "# Create a Linear Regression object\n",
    "linreg = LinearRegression()\n",
    "\n",
    "# Train the Linear Regression model\n",
    "linreg.fit(weight_train, length_train)\n",
    "\n",
    "print('Intercept \\t: b = ', linreg.intercept_)\n",
    "print('Coefficients \\t: a = ', linreg.coef_)\n",
    "\n",
    "# Formula for the Regression line\n",
    "regline_x = weight_train\n",
    "regline_y = linreg.intercept_ + linreg.coef_ * weight_train\n",
    "\n",
    "# Plot the Linear Regression line\n",
    "f, axes = plt.subplots(1, 1, figsize=(16, 8))\n",
    "plt.scatter(weight_train, length_train)\n",
    "plt.plot(regline_x, regline_y, 'r-', linewidth = 3)\n",
    "plt.show()"
   ]
  },
  {
   "cell_type": "code",
   "execution_count": null,
   "metadata": {},
   "outputs": [],
   "source": [
    "# Predict length values corresponding to weight\n",
    "length_train_pred = linreg.predict(weight_train)\n",
    "length_test_pred = linreg.predict(weight_test)\n",
    "\n",
    "# Plot the Predictions\n",
    "f, axes = plt.subplots(1, 1, figsize=(16, 8))\n",
    "plt.scatter(weight_test, length_test, color = \"green\")\n",
    "plt.scatter(weight_test, length_test_pred, color = \"red\")\n",
    "plt.show()\n",
    "\n",
    "print(\"Mean Squared Error (MSE) on Train Set \\t:\", mean_sq_err(length_train, length_train_pred))\n",
    "print(\"Mean Squared Error (MSE) on Test Set \\t:\", mean_sq_err(length_test, length_test_pred))\n",
    "print(\"Explained Variance (R^2) on Train Set \\t:\", linreg.score(weight_train, length_train))\n",
    "print(\"Explained Variance (R^2) on Test Set \\t:\", linreg.score(weight_test, length_test))"
   ]
  },
  {
   "cell_type": "code",
   "execution_count": null,
   "metadata": {},
   "outputs": [],
   "source": [
    "# Length against diameter\n",
    "# Split the Dataset into Train and Test\n",
    "diameter_train, diameter_test, length_train, length_test = train_test_split(diameter, length, test_size = 0.3)\n",
    "\n",
    "# Create a Linear Regression object\n",
    "linreg = LinearRegression()\n",
    "\n",
    "# Train the Linear Regression model\n",
    "linreg.fit(diameter_train, length_train)\n",
    "\n",
    "print('Intercept \\t: b = ', linreg.intercept_)\n",
    "print('Coefficients \\t: a = ', linreg.coef_)\n",
    "\n",
    "# Formula for the Regression line\n",
    "regline_x = diameter_train\n",
    "regline_y = linreg.intercept_ + linreg.coef_ * diameter_train\n",
    "\n",
    "# Plot the Linear Regression line\n",
    "f, axes = plt.subplots(1, 1, figsize=(16, 8))\n",
    "plt.scatter(diameter_train, length_train)\n",
    "plt.plot(regline_x, regline_y, 'r-', linewidth = 3)\n",
    "plt.show()"
   ]
  },
  {
   "cell_type": "code",
   "execution_count": null,
   "metadata": {},
   "outputs": [],
   "source": [
    "# Predict length values corresponding to diameter\n",
    "length_train_pred = linreg.predict(diameter_train)\n",
    "length_test_pred = linreg.predict(diameter_test)\n",
    "\n",
    "# Plot the Predictions\n",
    "f, axes = plt.subplots(1, 1, figsize=(16, 8))\n",
    "plt.scatter(diameter_test, length_test, color = \"green\")\n",
    "plt.scatter(diameter_test, length_test_pred, color = \"red\")\n",
    "plt.show()\n",
    "\n",
    "print(\"Mean Squared Error (MSE) on Train Set \\t:\", mean_sq_err(length_train, length_train_pred))\n",
    "print(\"Mean Squared Error (MSE) on Test Set \\t:\", mean_sq_err(length_test, length_test_pred))\n",
    "print(\"Explained Variance (R^2) on Train Set \\t:\", linreg.score(diameter_train, length_train))\n",
    "print(\"Explained Variance (R^2) on Test Set \\t:\", linreg.score(diameter_test, length_test))"
   ]
  },
  {
   "cell_type": "markdown",
   "metadata": {},
   "source": [
    "Comment: diameter vs. length linear model best predicting length, since higher variance (close to 1) and lower MSE on train and test set means better predictions. Diameter vs. length linear model has the highest variance and lowest MSE values."
   ]
  },
  {
   "cell_type": "markdown",
   "metadata": {},
   "source": [
    "# Problem 3"
   ]
  },
  {
   "cell_type": "code",
   "execution_count": null,
   "metadata": {},
   "outputs": [],
   "source": [
    "lengthPredictor = pd.DataFrame(abaData[['Height','Weight','Diameter']])"
   ]
  },
  {
   "cell_type": "code",
   "execution_count": null,
   "metadata": {},
   "outputs": [],
   "source": [
    "# Split the Dataset into Train and Test\n",
    "lengthPredictor_train, lengthPredictor_test, length_train, length_test = train_test_split(lengthPredictor, length, test_size = 0.3)\n",
    "\n",
    "# Create a Linear Regression object\n",
    "linreg = LinearRegression()\n",
    "\n",
    "# Train the Linear Regression model\n",
    "linreg.fit(lengthPredictor_train, length_train)"
   ]
  },
  {
   "cell_type": "code",
   "execution_count": null,
   "metadata": {},
   "outputs": [],
   "source": [
    "# Predict length values\n",
    "length_train_pred = linreg.predict(lengthPredictor_train)\n",
    "length_test_pred = linreg.predict(lengthPredictor_test)\n",
    "\n",
    "print(\"Mean Squared Error (MSE) on Train Set \\t:\", mean_sq_err(length_train, length_train_pred))\n",
    "print(\"Mean Squared Error (MSE) on Test Set \\t:\", mean_sq_err(length_test, length_test_pred))\n",
    "print(\"Explained Variance (R^2) on Train Set \\t:\", linreg.score(lengthPredictor_train, length_train))\n",
    "print(\"Explained Variance (R^2) on Test Set \\t:\", linreg.score(lengthPredictor_test, length_test))"
   ]
  },
  {
   "cell_type": "code",
   "execution_count": null,
   "metadata": {},
   "outputs": [],
   "source": []
  }
 ],
 "metadata": {
  "kernelspec": {
   "display_name": "Python 3",
   "language": "python",
   "name": "python3"
  },
  "language_info": {
   "codemirror_mode": {
    "name": "ipython",
    "version": 3
   },
   "file_extension": ".py",
   "mimetype": "text/x-python",
   "name": "python",
   "nbconvert_exporter": "python",
   "pygments_lexer": "ipython3",
   "version": "3.8.3"
  }
 },
 "nbformat": 4,
 "nbformat_minor": 4
}
